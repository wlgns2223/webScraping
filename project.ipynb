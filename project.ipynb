{
 "cells": [
  {
   "cell_type": "code",
   "execution_count": 134,
   "metadata": {},
   "outputs": [],
   "source": [
    "from selenium import webdriver\n",
    "from urllib.request import urlretrieve\n",
    "from bs4 import BeautifulSoup\n",
    "from selenium.webdriver.common.by import By\n",
    "from selenium.webdriver.support.ui import WebDriverWait\n",
    "from selenium.webdriver.support import expected_conditions as EC\n",
    "import re\n",
    "import csv"
   ]
  },
  {
   "cell_type": "code",
   "execution_count": 157,
   "metadata": {},
   "outputs": [],
   "source": [
    "class mySelenium():\n",
    "    \n",
    "    def __init__(self,driver_path, url, isHeadless = False):\n",
    "        self.url = 'https://'+ url\n",
    "        self.driver_path = driver_path\n",
    "        self.isHeadless = isHeadless\n",
    "        self.driver = None\n",
    "    \n",
    "    def init_and_get_chrome_selenium_driver(self):\n",
    "        \n",
    "        options = None\n",
    "        if self.isHeadless is True:\n",
    "            options = webdriver.ChromeOptions('headless')\n",
    "            \n",
    "        self.driver = webdriver.Chrome(executable_path = self.driver_path, chrome_options = options)\n",
    "    \n",
    "    def open_instagram(self):\n",
    "        self.driver.get(self.url)\n",
    "        \n",
    "    def logIn_instagram(self, user_data_path):\n",
    "        userdata = None\n",
    "        with open(user_data_path,'r') as csvFile:\n",
    "            userdata = list(csv.reader(csvFile))\n",
    "            userdata = sum(userdata, [])\n",
    "        \n",
    "        self.driver.implicitly_wait(2)\n",
    "        self.driver.find_element_by_name('username').send_keys(userdata[0])\n",
    "        self.driver.find_element_by_name('password').send_keys(userdata[1])\n",
    "        self.driver.find_element_by_xpath('//*[@id=\"react-root\"]/section/main/article/div[2]/div[1]/div/form/div[4]/button').submit()\n",
    "        \n",
    "    def search_on_instagram_by(self,topic):\n",
    "        self.driver.get(self.url + '/explore/tags/'+topic)\n",
    "        \n",
    "    def get_first_article_on_popularList(self):\n",
    "        self.driver.find_element_by_xpath('//*[@id=\"react-root\"]/section/main/article/div[1]/div/div/div[1]/div[1]/a/div').click()\n",
    "        WebDriverWait(self.driver,60).until(EC.presence_of_element_located((By.CLASS_NAME,'e1e1d')))\n",
    "        \n",
    "        pageSource = self.driver.page_source\n",
    "        bs = BeautifulSoup(pageSource,'html.parser')\n",
    "        \n",
    "        user_name = bs.find('div', {'class':'e1e1d'}).find('a', href = re.compile('^/.')).attrs['href']\n",
    "        img = bs.find('div', {'class': 'KL4Bh'}).find('img')['src']\n",
    "        \n",
    "    \n",
    "        return user_name,img\n",
    "        \n",
    "        "
   ]
  },
  {
   "cell_type": "code",
   "execution_count": 94,
   "metadata": {},
   "outputs": [],
   "source": [
    "class CatData():\n",
    "    \n",
    "    def __init__(self, file_name):\n",
    "    \n",
    "        self.file_name = file_name\n",
    "        self.file_path = './' + self.file_name\n",
    "        \n",
    "    def save_cat_data(self,name, img_location):\n",
    "        with open(self.file_path,'a') as csv_file:\n",
    "            writer = csv.writer(csv_file)\n",
    "            writer.writerow([name.strip('/') , img_location])\n",
    "        \n",
    "    def get_saved_cat_data(self):\n",
    "        with open(self.file_path, 'r') as csvFile:\n",
    "            data = csv.reader(csvFile)\n",
    "            return list(data)\n",
    "            "
   ]
  },
  {
   "cell_type": "code",
   "execution_count": 168,
   "metadata": {},
   "outputs": [],
   "source": [
    "myselenium = mySelenium('./chromedriver','www.instagram.com' )"
   ]
  },
  {
   "cell_type": "code",
   "execution_count": 169,
   "metadata": {},
   "outputs": [],
   "source": [
    "myselenium.init_and_get_chrome_selenium_driver()"
   ]
  },
  {
   "cell_type": "code",
   "execution_count": 170,
   "metadata": {},
   "outputs": [],
   "source": [
    "myselenium.open_instagram()"
   ]
  },
  {
   "cell_type": "code",
   "execution_count": 171,
   "metadata": {},
   "outputs": [],
   "source": [
    "myselenium.logIn_instagram('./data.csv')"
   ]
  },
  {
   "cell_type": "code",
   "execution_count": 172,
   "metadata": {},
   "outputs": [],
   "source": [
    "myselenium.search_on_instagram_by('britishcat')"
   ]
  },
  {
   "cell_type": "code",
   "execution_count": 173,
   "metadata": {},
   "outputs": [],
   "source": [
    "name, img = myselenium.get_first_article_on_popularList()"
   ]
  },
  {
   "cell_type": "code",
   "execution_count": 174,
   "metadata": {},
   "outputs": [],
   "source": [
    "catdata = CatData('catData.csv')"
   ]
  },
  {
   "cell_type": "code",
   "execution_count": 175,
   "metadata": {},
   "outputs": [],
   "source": [
    "catdata.save_cat_data(name,img)"
   ]
  },
  {
   "cell_type": "code",
   "execution_count": 176,
   "metadata": {},
   "outputs": [],
   "source": [
    "l = catdata.get_saved_cat_data()"
   ]
  },
  {
   "cell_type": "code",
   "execution_count": 177,
   "metadata": {},
   "outputs": [
    {
     "data": {
      "text/plain": [
       "('cat.jpg', <http.client.HTTPMessage at 0x1100cdf98>)"
      ]
     },
     "execution_count": 177,
     "metadata": {},
     "output_type": "execute_result"
    }
   ],
   "source": [
    "urlretrieve(l[0][1],'cat.jpg')"
   ]
  },
  {
   "cell_type": "code",
   "execution_count": null,
   "metadata": {},
   "outputs": [],
   "source": []
  }
 ],
 "metadata": {
  "hide_input": false,
  "kernelspec": {
   "display_name": "Python 3",
   "language": "python",
   "name": "python3"
  },
  "language_info": {
   "codemirror_mode": {
    "name": "ipython",
    "version": 3
   },
   "file_extension": ".py",
   "mimetype": "text/x-python",
   "name": "python",
   "nbconvert_exporter": "python",
   "pygments_lexer": "ipython3",
   "version": "3.7.0"
  },
  "varInspector": {
   "cols": {
    "lenName": 16,
    "lenType": 16,
    "lenVar": 40
   },
   "kernels_config": {
    "python": {
     "delete_cmd_postfix": "",
     "delete_cmd_prefix": "del ",
     "library": "var_list.py",
     "varRefreshCmd": "print(var_dic_list())"
    },
    "r": {
     "delete_cmd_postfix": ") ",
     "delete_cmd_prefix": "rm(",
     "library": "var_list.r",
     "varRefreshCmd": "cat(var_dic_list()) "
    }
   },
   "types_to_exclude": [
    "module",
    "function",
    "builtin_function_or_method",
    "instance",
    "_Feature"
   ],
   "window_display": false
  }
 },
 "nbformat": 4,
 "nbformat_minor": 4
}

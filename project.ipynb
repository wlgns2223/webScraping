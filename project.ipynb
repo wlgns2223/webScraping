{
 "cells": [
  {
   "cell_type": "code",
   "execution_count": 1,
   "metadata": {},
   "outputs": [],
   "source": [
    "from MySelenium.mySelenium import mySelenium\n",
    "from MySelenium.dataManager import catDataManager"
   ]
  },
  {
   "cell_type": "code",
   "execution_count": 2,
   "metadata": {},
   "outputs": [],
   "source": [
    "myselenium = mySelenium('./chromedriver','www.instagram.com')"
   ]
  },
  {
   "cell_type": "code",
   "execution_count": 3,
   "metadata": {},
   "outputs": [],
   "source": [
    "myselenium.init_chrome_driver(isHeadless = True)"
   ]
  },
  {
   "cell_type": "code",
   "execution_count": 4,
   "metadata": {},
   "outputs": [],
   "source": [
    "myselenium.open_instagram()"
   ]
  },
  {
   "cell_type": "code",
   "execution_count": 5,
   "metadata": {},
   "outputs": [],
   "source": [
    "myselenium.logIn_instagram('./data.csv')"
   ]
  },
  {
   "cell_type": "code",
   "execution_count": 10,
   "metadata": {},
   "outputs": [],
   "source": [
    "myselenium.search_on_instagram_by('britishcat')"
   ]
  },
  {
   "cell_type": "code",
   "execution_count": 11,
   "metadata": {},
   "outputs": [],
   "source": [
    "myselenium.click_first_article_on_popularList()"
   ]
  },
  {
   "cell_type": "code",
   "execution_count": 12,
   "metadata": {},
   "outputs": [],
   "source": [
    "name,img = myselenium.get_name_and_img()"
   ]
  },
  {
   "cell_type": "code",
   "execution_count": 13,
   "metadata": {},
   "outputs": [],
   "source": [
    "catmgr = catDataManager('catData.csv')"
   ]
  },
  {
   "cell_type": "code",
   "execution_count": 14,
   "metadata": {},
   "outputs": [],
   "source": [
    "for _ in range(5):\n",
    "    name,img = myselenium.get_name_and_img()\n",
    "    catmgr.save_cat_data(name,img)\n",
    "    myselenium.click_next()"
   ]
  },
  {
   "cell_type": "code",
   "execution_count": 15,
   "metadata": {},
   "outputs": [
    {
     "name": "stdout",
     "output_type": "stream",
     "text": [
      "[['jimmysatoria', 'https://scontent-ssn1-1.cdninstagram.com/v/t51.2885-15/sh0.08/e35/c0.66.1440.1440a/s640x640/91320276_231193881363771_4232148500261261063_n.jpg?_nc_ht=scontent-ssn1-1.cdninstagram.com&_nc_cat=1&_nc_ohc=4W-JAAsDHqIAX-zudvK&oh=98ecffafe8ee9dbfe10b044664370431&oe=5EACF9A0'], ['tacothebrit', 'https://scontent-ssn1-1.cdninstagram.com/v/t51.2885-15/sh0.08/e35/c0.66.1440.1440a/s640x640/91320276_231193881363771_4232148500261261063_n.jpg?_nc_ht=scontent-ssn1-1.cdninstagram.com&_nc_cat=1&_nc_ohc=4W-JAAsDHqIAX-zudvK&oh=98ecffafe8ee9dbfe10b044664370431&oe=5EACF9A0'], ['miss.livi', 'https://scontent-ssn1-1.cdninstagram.com/v/t51.2885-15/sh0.08/e35/c0.66.1440.1440a/s640x640/91320276_231193881363771_4232148500261261063_n.jpg?_nc_ht=scontent-ssn1-1.cdninstagram.com&_nc_cat=1&_nc_ohc=4W-JAAsDHqIAX-zudvK&oh=98ecffafe8ee9dbfe10b044664370431&oe=5EACF9A0'], ['family_fox_colin', 'https://scontent-ssn1-1.cdninstagram.com/v/t51.2885-15/sh0.08/e35/c0.66.1440.1440a/s640x640/91320276_231193881363771_4232148500261261063_n.jpg?_nc_ht=scontent-ssn1-1.cdninstagram.com&_nc_cat=1&_nc_ohc=4W-JAAsDHqIAX-zudvK&oh=98ecffafe8ee9dbfe10b044664370431&oe=5EACF9A0'], ['sammyyy_white', 'https://scontent-ssn1-1.cdninstagram.com/v/t51.2885-15/sh0.08/e35/c0.66.1440.1440a/s640x640/91320276_231193881363771_4232148500261261063_n.jpg?_nc_ht=scontent-ssn1-1.cdninstagram.com&_nc_cat=1&_nc_ohc=4W-JAAsDHqIAX-zudvK&oh=98ecffafe8ee9dbfe10b044664370431&oe=5EACF9A0'], ['jimmysatoria', 'https://scontent-ssn1-1.cdninstagram.com/v/t51.2885-15/sh0.08/e35/c0.66.1440.1440a/s640x640/91320276_231193881363771_4232148500261261063_n.jpg?_nc_ht=scontent-ssn1-1.cdninstagram.com&_nc_cat=1&_nc_ohc=4W-JAAsDHqIAX-zudvK&oh=98ecffafe8ee9dbfe10b044664370431&oe=5EACF9A0'], ['tacothebrit', 'https://scontent-ssn1-1.cdninstagram.com/v/t51.2885-15/sh0.08/e35/c0.66.1440.1440a/s640x640/91320276_231193881363771_4232148500261261063_n.jpg?_nc_ht=scontent-ssn1-1.cdninstagram.com&_nc_cat=1&_nc_ohc=4W-JAAsDHqIAX-zudvK&oh=98ecffafe8ee9dbfe10b044664370431&oe=5EACF9A0'], ['miss.livi', 'https://scontent-ssn1-1.cdninstagram.com/v/t51.2885-15/sh0.08/e35/c0.66.1440.1440a/s640x640/91320276_231193881363771_4232148500261261063_n.jpg?_nc_ht=scontent-ssn1-1.cdninstagram.com&_nc_cat=1&_nc_ohc=4W-JAAsDHqIAX-zudvK&oh=98ecffafe8ee9dbfe10b044664370431&oe=5EACF9A0'], ['family_fox_colin', 'https://scontent-ssn1-1.cdninstagram.com/v/t51.2885-15/sh0.08/e35/c0.66.1440.1440a/s640x640/91320276_231193881363771_4232148500261261063_n.jpg?_nc_ht=scontent-ssn1-1.cdninstagram.com&_nc_cat=1&_nc_ohc=4W-JAAsDHqIAX-zudvK&oh=98ecffafe8ee9dbfe10b044664370431&oe=5EACF9A0'], ['sammyyy_white', 'https://scontent-ssn1-1.cdninstagram.com/v/t51.2885-15/sh0.08/e35/c0.66.1440.1440a/s640x640/91320276_231193881363771_4232148500261261063_n.jpg?_nc_ht=scontent-ssn1-1.cdninstagram.com&_nc_cat=1&_nc_ohc=4W-JAAsDHqIAX-zudvK&oh=98ecffafe8ee9dbfe10b044664370431&oe=5EACF9A0'], ['tacothebrit', 'https://scontent-ssn1-1.cdninstagram.com/v/t51.2885-15/sh0.08/e35/s640x640/91094861_666343574121649_7366249823175187231_n.jpg?_nc_ht=scontent-ssn1-1.cdninstagram.com&_nc_cat=101&_nc_ohc=N-34RP1ph1IAX9npkF8&oh=f8b61146c878357fb87b8698cbca94d9&oe=5EAD9E81'], ['jimmysatoria', 'https://scontent-ssn1-1.cdninstagram.com/v/t51.2885-15/sh0.08/e35/s640x640/91094861_666343574121649_7366249823175187231_n.jpg?_nc_ht=scontent-ssn1-1.cdninstagram.com&_nc_cat=101&_nc_ohc=N-34RP1ph1IAX9npkF8&oh=f8b61146c878357fb87b8698cbca94d9&oe=5EAD9E81'], ['sammyyy_white', 'https://scontent-ssn1-1.cdninstagram.com/v/t51.2885-15/sh0.08/e35/s640x640/91094861_666343574121649_7366249823175187231_n.jpg?_nc_ht=scontent-ssn1-1.cdninstagram.com&_nc_cat=101&_nc_ohc=N-34RP1ph1IAX9npkF8&oh=f8b61146c878357fb87b8698cbca94d9&oe=5EAD9E81'], ['catteryvomzuerichberg', 'https://scontent-ssn1-1.cdninstagram.com/v/t51.2885-15/sh0.08/e35/s640x640/91094861_666343574121649_7366249823175187231_n.jpg?_nc_ht=scontent-ssn1-1.cdninstagram.com&_nc_cat=101&_nc_ohc=N-34RP1ph1IAX9npkF8&oh=f8b61146c878357fb87b8698cbca94d9&oe=5EAD9E81'], ['caramel_pride', 'https://scontent-ssn1-1.cdninstagram.com/v/t51.2885-15/sh0.08/e35/s640x640/91094861_666343574121649_7366249823175187231_n.jpg?_nc_ht=scontent-ssn1-1.cdninstagram.com&_nc_cat=101&_nc_ohc=N-34RP1ph1IAX9npkF8&oh=f8b61146c878357fb87b8698cbca94d9&oe=5EAD9E81']]\n"
     ]
    }
   ],
   "source": [
    "datalist= catmgr.get_saved_cat_data()\n",
    "print(datalist)"
   ]
  },
  {
   "cell_type": "code",
   "execution_count": 16,
   "metadata": {},
   "outputs": [],
   "source": [
    "catmgr.delete_duplicated_data()"
   ]
  },
  {
   "cell_type": "code",
   "execution_count": 17,
   "metadata": {},
   "outputs": [],
   "source": [
    "datalist = catmgr.get_saved_cat_data()"
   ]
  },
  {
   "cell_type": "code",
   "execution_count": 20,
   "metadata": {},
   "outputs": [
    {
     "name": "stdout",
     "output_type": "stream",
     "text": [
      "['jimmysatoria', 'https://scontent-ssn1-1.cdninstagram.com/v/t51.2885-15/sh0.08/e35/c0.66.1440.1440a/s640x640/91320276_231193881363771_4232148500261261063_n.jpg?_nc_ht=scontent-ssn1-1.cdninstagram.com&_nc_cat=1&_nc_ohc=4W-JAAsDHqIAX-zudvK&oh=98ecffafe8ee9dbfe10b044664370431&oe=5EACF9A0']\n",
      "['tacothebrit', 'https://scontent-ssn1-1.cdninstagram.com/v/t51.2885-15/sh0.08/e35/c0.66.1440.1440a/s640x640/91320276_231193881363771_4232148500261261063_n.jpg?_nc_ht=scontent-ssn1-1.cdninstagram.com&_nc_cat=1&_nc_ohc=4W-JAAsDHqIAX-zudvK&oh=98ecffafe8ee9dbfe10b044664370431&oe=5EACF9A0']\n",
      "['miss.livi', 'https://scontent-ssn1-1.cdninstagram.com/v/t51.2885-15/sh0.08/e35/c0.66.1440.1440a/s640x640/91320276_231193881363771_4232148500261261063_n.jpg?_nc_ht=scontent-ssn1-1.cdninstagram.com&_nc_cat=1&_nc_ohc=4W-JAAsDHqIAX-zudvK&oh=98ecffafe8ee9dbfe10b044664370431&oe=5EACF9A0']\n",
      "['family_fox_colin', 'https://scontent-ssn1-1.cdninstagram.com/v/t51.2885-15/sh0.08/e35/c0.66.1440.1440a/s640x640/91320276_231193881363771_4232148500261261063_n.jpg?_nc_ht=scontent-ssn1-1.cdninstagram.com&_nc_cat=1&_nc_ohc=4W-JAAsDHqIAX-zudvK&oh=98ecffafe8ee9dbfe10b044664370431&oe=5EACF9A0']\n",
      "['sammyyy_white', 'https://scontent-ssn1-1.cdninstagram.com/v/t51.2885-15/sh0.08/e35/c0.66.1440.1440a/s640x640/91320276_231193881363771_4232148500261261063_n.jpg?_nc_ht=scontent-ssn1-1.cdninstagram.com&_nc_cat=1&_nc_ohc=4W-JAAsDHqIAX-zudvK&oh=98ecffafe8ee9dbfe10b044664370431&oe=5EACF9A0']\n",
      "['tacothebrit', 'https://scontent-ssn1-1.cdninstagram.com/v/t51.2885-15/sh0.08/e35/s640x640/91094861_666343574121649_7366249823175187231_n.jpg?_nc_ht=scontent-ssn1-1.cdninstagram.com&_nc_cat=101&_nc_ohc=N-34RP1ph1IAX9npkF8&oh=f8b61146c878357fb87b8698cbca94d9&oe=5EAD9E81']\n",
      "['jimmysatoria', 'https://scontent-ssn1-1.cdninstagram.com/v/t51.2885-15/sh0.08/e35/s640x640/91094861_666343574121649_7366249823175187231_n.jpg?_nc_ht=scontent-ssn1-1.cdninstagram.com&_nc_cat=101&_nc_ohc=N-34RP1ph1IAX9npkF8&oh=f8b61146c878357fb87b8698cbca94d9&oe=5EAD9E81']\n",
      "['sammyyy_white', 'https://scontent-ssn1-1.cdninstagram.com/v/t51.2885-15/sh0.08/e35/s640x640/91094861_666343574121649_7366249823175187231_n.jpg?_nc_ht=scontent-ssn1-1.cdninstagram.com&_nc_cat=101&_nc_ohc=N-34RP1ph1IAX9npkF8&oh=f8b61146c878357fb87b8698cbca94d9&oe=5EAD9E81']\n",
      "['catteryvomzuerichberg', 'https://scontent-ssn1-1.cdninstagram.com/v/t51.2885-15/sh0.08/e35/s640x640/91094861_666343574121649_7366249823175187231_n.jpg?_nc_ht=scontent-ssn1-1.cdninstagram.com&_nc_cat=101&_nc_ohc=N-34RP1ph1IAX9npkF8&oh=f8b61146c878357fb87b8698cbca94d9&oe=5EAD9E81']\n",
      "['caramel_pride', 'https://scontent-ssn1-1.cdninstagram.com/v/t51.2885-15/sh0.08/e35/s640x640/91094861_666343574121649_7366249823175187231_n.jpg?_nc_ht=scontent-ssn1-1.cdninstagram.com&_nc_cat=101&_nc_ohc=N-34RP1ph1IAX9npkF8&oh=f8b61146c878357fb87b8698cbca94d9&oe=5EAD9E81']\n"
     ]
    }
   ],
   "source": [
    "new_list = []\n",
    "for data in datalist:\n",
    "    if data not in new_list:\n",
    "        new_list.append(data)\n",
    "        \n",
    "for data in new_list:\n",
    "    print(data)"
   ]
  },
  {
   "cell_type": "code",
   "execution_count": null,
   "metadata": {},
   "outputs": [],
   "source": []
  }
 ],
 "metadata": {
  "hide_input": false,
  "kernelspec": {
   "display_name": "Python 3",
   "language": "python",
   "name": "python3"
  },
  "language_info": {
   "codemirror_mode": {
    "name": "ipython",
    "version": 3
   },
   "file_extension": ".py",
   "mimetype": "text/x-python",
   "name": "python",
   "nbconvert_exporter": "python",
   "pygments_lexer": "ipython3",
   "version": "3.7.0"
  },
  "varInspector": {
   "cols": {
    "lenName": 16,
    "lenType": 16,
    "lenVar": 40
   },
   "kernels_config": {
    "python": {
     "delete_cmd_postfix": "",
     "delete_cmd_prefix": "del ",
     "library": "var_list.py",
     "varRefreshCmd": "print(var_dic_list())"
    },
    "r": {
     "delete_cmd_postfix": ") ",
     "delete_cmd_prefix": "rm(",
     "library": "var_list.r",
     "varRefreshCmd": "cat(var_dic_list()) "
    }
   },
   "types_to_exclude": [
    "module",
    "function",
    "builtin_function_or_method",
    "instance",
    "_Feature"
   ],
   "window_display": false
  }
 },
 "nbformat": 4,
 "nbformat_minor": 4
}
